{
 "cells": [
  {
   "cell_type": "code",
   "execution_count": 1,
   "metadata": {},
   "outputs": [
    {
     "name": "stderr",
     "output_type": "stream",
     "text": [
      "d:\\Cursos\\Curso BOOTCAMP IA GENERATIVA-SOLUCIONES CON PYTHON\\UNIDAD 4\\Tarea4_Modulo_Embeddings\\myvenv\\lib\\site-packages\\tqdm\\auto.py:21: TqdmWarning: IProgress not found. Please update jupyter and ipywidgets. See https://ipywidgets.readthedocs.io/en/stable/user_install.html\n",
      "  from .autonotebook import tqdm as notebook_tqdm\n",
      "Some weights of the model checkpoint at mrm8488/distill-bert-base-spanish-wwm-cased-finetuned-spa-squad2-es were not used when initializing BertForQuestionAnswering: ['bert.pooler.dense.bias', 'bert.pooler.dense.weight']\n",
      "- This IS expected if you are initializing BertForQuestionAnswering from the checkpoint of a model trained on another task or with another architecture (e.g. initializing a BertForSequenceClassification model from a BertForPreTraining model).\n",
      "- This IS NOT expected if you are initializing BertForQuestionAnswering from the checkpoint of a model that you expect to be exactly identical (initializing a BertForSequenceClassification model from a BertForSequenceClassification model).\n"
     ]
    },
    {
     "name": "stdout",
     "output_type": "stream",
     "text": [
      "Respuesta: Spiderman\n",
      "Score: 0.9504584074020386\n"
     ]
    }
   ],
   "source": [
    "from transformers import pipeline\n",
    "\n",
    "# Crear el pipeline de question-answering\n",
    "nlp = pipeline(\n",
    "    'question-answering', \n",
    "    model='mrm8488/distill-bert-base-spanish-wwm-cased-finetuned-spa-squad2-es',\n",
    "    tokenizer=(\n",
    "        'mrm8488/distill-bert-base-spanish-wwm-cased-finetuned-spa-squad2-es',  \n",
    "        {\"use_fast\": False}\n",
    "    )\n",
    ")\n",
    "\n",
    "# Definir la pregunta y el contexto\n",
    "question = '¿Cual es la película favorita de Manuel Romero?'\n",
    "context = ('Manuel Romero está colaborando activamente con huggingface/transformers '\n",
    "           'para traer el poder de las últimas técnicas de procesamiento de lenguaje natural al idioma español'\n",
    "           'La película favorita de Manuel Romero es Spiderman')\n",
    "\n",
    "# Ejecutar el pipeline con la pregunta y el contexto\n",
    "result = nlp(\n",
    "    {\n",
    "        'question': question,\n",
    "        'context': context\n",
    "    }\n",
    ")\n",
    "\n",
    "# Mostrar el resultado\n",
    "print(f\"Respuesta: {result['answer']}\")\n",
    "print(f\"Score: {result['score']}\")"
   ]
  },
  {
   "cell_type": "markdown",
   "metadata": {},
   "source": [
    "AHORA HAREMOS VARIAS PRUEBAS CON EL PIPELINE DE RESPUESTA"
   ]
  },
  {
   "cell_type": "code",
   "execution_count": 2,
   "metadata": {},
   "outputs": [
    {
     "name": "stdout",
     "output_type": "stream",
     "text": [
      "Pregunta: ¿Cual es la película favorita de Manuel Romero?\n",
      "Respuesta: Spiderman\n",
      "Score: 0.9504584074020386\n",
      "\n",
      "Pregunta: ¿Cual es la idea principal?\n",
      "Respuesta: el Anillo Único\n",
      "Score: 0.2904157042503357\n",
      "\n",
      "Pregunta: ¿Qué personas han sido mencionadas?\n",
      "Respuesta: Reyes Elfos\n",
      "Score: 0.008702215738594532\n",
      "\n",
      "Pregunta: ¿Quien es el protragonista?\n",
      "Respuesta: Frodo Bolsón,\n",
      "Score: 5.951296770945191e-06\n",
      "\n",
      "Pregunta: ¿Cual es la principal fuente de poder?\n",
      "Respuesta: señor oscuro Sauron.\n",
      "Score: 0.17185266315937042\n",
      "\n",
      "Pregunta: ¿Como se llama el libro?\n",
      "Respuesta: Tres Anillos para los Reyes Elfos bajo el cielo\n",
      "Score: 0.6884682178497314\n",
      "\n",
      "Pregunta: ¿Que sucedió con el estudiante de secundaria?\n",
      "Respuesta: Mordido por una araña genéticamente modificada,\n",
      "Score: 0.467193067073822\n",
      "\n",
      "Pregunta: ¿Que obtiene el estudiante de secundaria?\n",
      "Respuesta: increíbles capacidades como arácnido.\n",
      "Score: 0.8165550827980042\n",
      "\n"
     ]
    }
   ],
   "source": [
    "examples = [\n",
    "    {\n",
    "        'question' : '¿Cual es la película favorita de Manuel Romero?',\n",
    "        'context' : 'Manuel Romero está colaborando activamente con huggingface/transformers '\n",
    "           'para traer el poder de las últimas técnicas de procesamiento de lenguaje natural al idioma español'\n",
    "           'La película favorita de Manuel Romero es Spiderman'\n",
    "    },\n",
    "    {\n",
    "        'question' : '¿Cual es la idea principal?',\n",
    "        'context' : 'La novela narra el viaje del protagonista principal, Frodo Bolsón, hobbit de la Comarca, para destruir el Anillo Único y la consiguiente guerra que provocará el enemigo para recuperarlo, ya que es la principal fuente de poder de su creador, el señor oscuro Sauron. «Tres Anillos para los Reyes Elfos bajo el cielo'\n",
    "    },\n",
    "    {\n",
    "        'question': '¿Qué personas han sido mencionadas?',\n",
    "        'context' : 'La novela narra el viaje del protagonista principal, Frodo Bolsón, hobbit de la Comarca, para destruir el Anillo Único y la consiguiente guerra que provocará el enemigo para recuperarlo, ya que es la principal fuente de poder de su creador, el señor oscuro Sauron. «Tres Anillos para los Reyes Elfos bajo el cielo'\n",
    "    },\n",
    "    {\n",
    "        'question': '¿Quien es el protragonista?',\n",
    "        'context' : 'La novela narra el viaje del protagonista principal, Frodo Bolsón, hobbit de la Comarca, para destruir el Anillo Único y la consiguiente guerra que provocará el enemigo para recuperarlo, ya que es la principal fuente de poder de su creador, el señor oscuro Sauron. «Tres Anillos para los Reyes Elfos bajo el cielo'\n",
    "    },\n",
    "    {\n",
    "        'question': '¿Cual es la principal fuente de poder?',\n",
    "        'context' : 'La novela narra el viaje del protagonista principal, Frodo Bolsón, hobbit de la Comarca, para destruir el Anillo Único y la consiguiente guerra que provocará el enemigo para recuperarlo, ya que es la principal fuente de poder de su creador, el señor oscuro Sauron. «Tres Anillos para los Reyes Elfos bajo el cielo'\n",
    "    },\n",
    "    {\n",
    "        'question': '¿Como se llama el libro?',\n",
    "        'context' : 'La novela narra el viaje del protagonista principal, Frodo Bolsón, hobbit de la Comarca, para destruir el Anillo Único y la consiguiente guerra que provocará el enemigo para recuperarlo, ya que es la principal fuente de poder de su creador, el señor oscuro Sauron.' \n",
    "        'Nombre del libro: Tres Anillos para los Reyes Elfos bajo el cielo'\n",
    "    },\n",
    "    {\n",
    "        'question': '¿Que sucedió con el estudiante de secundaria?',\n",
    "        'context': 'Mordido por una araña genéticamente modificada, un estudiante de secundaria tímido y torpe obtiene increíbles capacidades como arácnido. Pronto comprenderá que su cometido es utilizarlas para luchar contra el mal y defender a sus vecinos.'\n",
    "    },\n",
    "    {\n",
    "        'question': '¿Que obtiene el estudiante de secundaria?',\n",
    "        'context' : 'Mordido por una araña genéticamente modificada, un estudiante de secundaria tímido y torpe obtiene increíbles capacidades como arácnido. Pronto comprenderá que su cometido es utilizarlas para luchar contra el mal y defender a sus vecinos.'\n",
    "    }\n",
    "    \n",
    "]\n",
    "\n",
    "def process_examples(examples):\n",
    "    results=[]\n",
    "    for example in examples:\n",
    "        try:\n",
    "            result = nlp(question=example['question'], context=example['context'])\n",
    "            results.append(result)\n",
    "            # Mostrar el resultado y el score\n",
    "            print(f\"Pregunta: {example['question']}\")\n",
    "            print(f\"Respuesta: {result['answer']}\")\n",
    "            print(f\"Score: {result['score']}\\n\")\n",
    "        except KeyError as e:\n",
    "            print(f\"Error procesando el ejemplo: {example}\")\n",
    "            print(f\"KeyError: {e}\")\n",
    "    return results\n",
    "\n",
    "\n",
    "results = process_examples(examples)"
   ]
  },
  {
   "cell_type": "markdown",
   "metadata": {},
   "source": [
    "SE PUEDE UTILIZAR DISTILLBERT PARA REALIZAR MÁS TAREAS, PERO ESTE MODELO HA SIDO ENTRENADO PARA REALIZAR ESTA ACTIVIDAD EN ESPECÍFICO DE MEJOR MANERA."
   ]
  },
  {
   "cell_type": "markdown",
   "metadata": {},
   "source": [
    "PROBAREMOS CLASIFICAR TEXTO AHORA PARA VER SU EFICACIA. "
   ]
  },
  {
   "cell_type": "code",
   "execution_count": 3,
   "metadata": {},
   "outputs": [
    {
     "name": "stderr",
     "output_type": "stream",
     "text": [
      "Some weights of BertForSequenceClassification were not initialized from the model checkpoint at mrm8488/distill-bert-base-spanish-wwm-cased-finetuned-spa-squad2-es and are newly initialized: ['classifier.bias', 'classifier.weight']\n",
      "You should probably TRAIN this model on a down-stream task to be able to use it for predictions and inference.\n"
     ]
    },
    {
     "name": "stdout",
     "output_type": "stream",
     "text": [
      "[0.34069318 0.6593068 ]\n"
     ]
    }
   ],
   "source": [
    "from transformers import AutoModelForSequenceClassification\n",
    "from transformers import AutoTokenizer\n",
    "from scipy.special import softmax\n",
    "import csv\n",
    "import urllib.request\n",
    "import tarfile\n",
    "\n",
    "# Utilizamos un modelo BERT para el análisis de sentimiento\n",
    "model = AutoModelForSequenceClassification.from_pretrained(\"mrm8488/distill-bert-base-spanish-wwm-cased-finetuned-spa-squad2-es\")\n",
    "tokenizer = AutoTokenizer.from_pretrained(\"mrm8488/distill-bert-base-spanish-wwm-cased-finetuned-spa-squad2-es\")\n",
    "\n",
    "text = \"Me encanta esta película\"\n",
    "\n",
    "# Tokenizamos el texto\n",
    "encoded_input = tokenizer(text, return_tensors='pt', max_length=512, truncation=True)\n",
    "        \n",
    "        # Propagamos el input a través del modelo\n",
    "raw_output = model(**encoded_input)\n",
    "\n",
    "        # El output del modelo es una tupla, estamos interesados en el primer elemento de la tupla\n",
    "        # que es un tensor de forma (1, num_labels). Tomamos el primer elemento de este tensor\n",
    "        # y lo desacoplamos para obtener un array de numpy.\n",
    "output_array = raw_output[0][0].detach().numpy()\n",
    "        \n",
    "        # Aplicamos la función softmax al array para obtener las probabilidades\n",
    "probabilities = softmax(output_array)\n",
    "        \n",
    "outputs = probabilities\n",
    "\n",
    "print(outputs)"
   ]
  },
  {
   "cell_type": "markdown",
   "metadata": {},
   "source": [
    "PROBAREMOS AHORA MUCHOS TEXTOS NEGATIVOS Y POSITIVOS PARA VER SU RENDIMIENTO "
   ]
  },
  {
   "cell_type": "code",
   "execution_count": null,
   "metadata": {},
   "outputs": [],
   "source": []
  },
  {
   "cell_type": "code",
   "execution_count": 5,
   "metadata": {},
   "outputs": [],
   "source": [
    "import os \n",
    "import random\n",
    "from scipy.special import softmax\n",
    "import numpy as np\n",
    "\n",
    "np.set_printoptions(suppress=True)\n",
    "\n",
    "#Ponemos la ruta de las reseñas postivas y negativas\n",
    "pos_dir = 'aclImdb/test/pos/'\n",
    "neg_dir = 'aclImdb/test/neg/'\n",
    "\n",
    "#Obtenemos la lista de los archvos txt\n",
    "pos_files = [os.path.join(pos_dir, f) for f in os.listdir(pos_dir) if f.endswith('.txt')]\n",
    "neg_files = [os.path.join(neg_dir, f) for f in os.listdir(neg_dir) if f.endswith('.txt')]\n",
    "\n",
    "#Elegimos 50 al azar\n",
    "random_pos_files = random.sample(pos_files, 50)\n",
    "random_neg_files = random.sample(neg_files, 50)\n",
    "\n",
    "#Leemos los archivos\n",
    "pos_texts = [open(file, 'r', encoding='utf-8').read() for file in random_pos_files]\n",
    "neg_files = [open(file, 'r', encoding='utf-8').read() for file in random_neg_files]"
   ]
  }
 ],
 "metadata": {
  "kernelspec": {
   "display_name": "myvenv",
   "language": "python",
   "name": "python3"
  },
  "language_info": {
   "codemirror_mode": {
    "name": "ipython",
    "version": 3
   },
   "file_extension": ".py",
   "mimetype": "text/x-python",
   "name": "python",
   "nbconvert_exporter": "python",
   "pygments_lexer": "ipython3",
   "version": "3.10.0"
  }
 },
 "nbformat": 4,
 "nbformat_minor": 2
}
